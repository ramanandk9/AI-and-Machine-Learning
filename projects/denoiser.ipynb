{
  "nbformat": 4,
  "nbformat_minor": 0,
  "metadata": {
    "colab": {
      "name": "denoising.ipynb",
      "provenance": []
    },
    "kernelspec": {
      "name": "python3",
      "display_name": "Python 3"
    },
    "accelerator": "GPU"
  },
  "cells": [
    {
      "cell_type": "code",
      "metadata": {
        "id": "3R4X7cw5xzGY",
        "colab_type": "code",
        "colab": {}
      },
      "source": [
        "import tensorflow.keras as k\n",
        "from tensorflow.keras.layers import Conv2D,MaxPooling2D,Flatten,Dense,Dropout,Activation,Conv2DTranspose\n",
        "from tensorflow.keras.datasets import mnist,cifar10\n",
        "from tensorflow.keras.models import Sequential\n",
        "import numpy as np\n",
        "import matplotlib.pyplot as plt\n",
        "%matplotlib inline\n"
      ],
      "execution_count": 53,
      "outputs": []
    },
    {
      "cell_type": "code",
      "metadata": {
        "id": "UmZIAskzyV4o",
        "colab_type": "code",
        "colab": {}
      },
      "source": [
        "(x_train,y_train),(x_test,y_test)=mnist.load_data()\n",
        "x_train=np.expand_dims(x_train,axis=-1)\n",
        "x_test=np.expand_dims(x_test,axis=-1)\n",
        "# print(y_train.shape)\n",
        "# print(np.resize(x_train,(-1,28,28)).shape)"
      ],
      "execution_count": 76,
      "outputs": []
    },
    {
      "cell_type": "code",
      "metadata": {
        "id": "GFB7-dzm2Mnn",
        "colab_type": "code",
        "colab": {
          "base_uri": "https://localhost:8080/",
          "height": 219
        },
        "outputId": "6c2c1683-8328-4b00-838f-c6627ca12a8b"
      },
      "source": [
        "def add_noise(data):\n",
        "  filter=(np.random.standard_normal([28, 28]) * 255).astype(np.uint8)\n",
        "  filter_tune=[]\n",
        "  for i in range(28):\n",
        "    tmp1=[]\n",
        "    for j in range(28):\n",
        "      tmp1.append(np.random.choice([0,0,0,0,1]))\n",
        "    filter_tune.append(tmp1)\n",
        "  filter_tune=np.array(filter_tune)\n",
        "  filter=filter*filter_tune\n",
        "  filter=np.expand_dims(filter,axis=-1)\n",
        "  data=data+filter\n",
        "  data=np.clip(data,0.0,255.)\n",
        "  return data\n",
        "\n",
        "x_train_noise=add_noise(x_train)\n",
        "x_test_noise=add_noise(x_test)\n",
        "plt.subplot(121)\n",
        "plt.imshow(np.resize(x_train_noise[0],(28,28)),cmap='gray')\n",
        "plt.subplot(122)\n",
        "plt.imshow(np.resize(x_train[0],(28,28)),cmap='gray')"
      ],
      "execution_count": 77,
      "outputs": [
        {
          "output_type": "execute_result",
          "data": {
            "text/plain": [
              "<matplotlib.image.AxesImage at 0x7f5327d136a0>"
            ]
          },
          "metadata": {
            "tags": []
          },
          "execution_count": 77
        },
        {
          "output_type": "display_data",
          "data": {
            "image/png": "[encoded data removed]",
            "text/plain": [
              "<Figure size 432x288 with 2 Axes>"
            ]
          },
          "metadata": {
            "tags": [],
            "needs_background": "light"
          }
        }
      ]
    },
    {
      "cell_type": "code",
      "metadata": {
        "id": "bRBM9KQAywUZ",
        "colab_type": "code",
        "colab": {
          "base_uri": "https://localhost:8080/",
          "height": 421
        },
        "outputId": "181bddd3-9bb3-447a-9c99-497d303f65c7"
      },
      "source": [
        "# creating the model\n",
        "\n",
        "# encoder\n",
        "model=Sequential()\n",
        "model.add(Conv2D(16,(3,3),strides=2,padding='same',input_shape=x_train.shape[1:]))\n",
        "model.add(Conv2D(8,(3,3),strides=2,padding='same',activation='relu'))\n",
        "model.add(Conv2D(8,(3,3),strides=1,padding='same',activation='relu'))   # bottelneck\n",
        "model.add(Conv2D(4,(3,3),strides=1,padding='same',activation='relu'))\n",
        "# decoder\n",
        "model.add(Conv2DTranspose(8,(3,3),strides=1,padding='same',activation='relu'))\n",
        "model.add(Conv2DTranspose(16,(3,3),strides=2,padding='same',activation='relu'))\n",
        "model.add(Conv2DTranspose(1,(3,3),strides=2,padding='same',activation='relu'))\n",
        "\n",
        "model.summary()"
      ],
      "execution_count": 115,
      "outputs": [
        {
          "output_type": "stream",
          "text": [
            "Model: \"sequential_8\"\n",
            "_________________________________________________________________\n",
            "Layer (type)                 Output Shape              Param #   \n",
            "=================================================================\n",
            "conv2d_28 (Conv2D)           (None, 14, 14, 16)        160       \n",
            "_________________________________________________________________\n",
            "conv2d_29 (Conv2D)           (None, 7, 7, 8)           1160      \n",
            "_________________________________________________________________\n",
            "conv2d_30 (Conv2D)           (None, 7, 7, 8)           584       \n",
            "_________________________________________________________________\n",
            "conv2d_31 (Conv2D)           (None, 7, 7, 4)           292       \n",
            "_________________________________________________________________\n",
            "conv2d_transpose_19 (Conv2DT (None, 7, 7, 8)           296       \n",
            "_________________________________________________________________\n",
            "conv2d_transpose_20 (Conv2DT (None, 14, 14, 16)        1168      \n",
            "_________________________________________________________________\n",
            "conv2d_transpose_21 (Conv2DT (None, 28, 28, 1)         145       \n",
            "=================================================================\n",
            "Total params: 3,805\n",
            "Trainable params: 3,805\n",
            "Non-trainable params: 0\n",
            "_________________________________________________________________\n"
          ],
          "name": "stdout"
        }
      ]
    },
    {
      "cell_type": "code",
      "metadata": {
        "id": "HguJKs6yy5hA",
        "colab_type": "code",
        "colab": {}
      },
      "source": [
        "# model.compile('adam',loss='mse',metrics=['mse'])"
      ],
      "execution_count": 116,
      "outputs": []
    },
    {
      "cell_type": "code",
      "metadata": {
        "id": "T8ThQmZ-12my",
        "colab_type": "code",
        "colab": {}
      },
      "source": [
        "# history=model.fit(x_train_noise,x_train,epochs=10,validation_split=.1)"
      ],
      "execution_count": 117,
      "outputs": []
    },
    {
      "cell_type": "code",
      "metadata": {
        "id": "Ytw9TIUI2BzY",
        "colab_type": "code",
        "colab": {
          "base_uri": "https://localhost:8080/",
          "height": 384
        },
        "outputId": "d670729e-2b35-48c5-b3d5-1d3e4b925eb1"
      },
      "source": [
        "model.compile('rmsprop',loss='mae',metrics=['accuracy'])\n",
        "history=model.fit(x_train_noise,x_train,epochs=10,validation_split=.1)"
      ],
      "execution_count": 118,
      "outputs": [
        {
          "output_type": "stream",
          "text": [
            "Epoch 1/10\n",
            "1688/1688 [==============================] - 11s 7ms/step - loss: 20.1099 - accuracy: 0.7897 - val_loss: 13.4765 - val_accuracy: 0.7862\n",
            "Epoch 2/10\n",
            "1688/1688 [==============================] - 11s 6ms/step - loss: 8.6622 - accuracy: 0.7921 - val_loss: 8.7785 - val_accuracy: 0.7911\n",
            "Epoch 3/10\n",
            "1688/1688 [==============================] - 11s 6ms/step - loss: 7.5510 - accuracy: 0.7970 - val_loss: 7.0024 - val_accuracy: 0.7992\n",
            "Epoch 4/10\n",
            "1688/1688 [==============================] - 11s 6ms/step - loss: 7.0041 - accuracy: 0.7991 - val_loss: 6.5620 - val_accuracy: 0.8017\n",
            "Epoch 5/10\n",
            "1688/1688 [==============================] - 11s 6ms/step - loss: 6.6150 - accuracy: 0.8003 - val_loss: 6.2331 - val_accuracy: 0.8038\n",
            "Epoch 6/10\n",
            "1688/1688 [==============================] - 11s 6ms/step - loss: 6.2964 - accuracy: 0.8010 - val_loss: 6.4078 - val_accuracy: 0.8062\n",
            "Epoch 7/10\n",
            "1688/1688 [==============================] - 11s 7ms/step - loss: 6.0459 - accuracy: 0.8015 - val_loss: 5.8805 - val_accuracy: 0.8040\n",
            "Epoch 8/10\n",
            "1688/1688 [==============================] - 11s 6ms/step - loss: 5.8502 - accuracy: 0.8019 - val_loss: 5.6118 - val_accuracy: 0.8055\n",
            "Epoch 9/10\n",
            "1688/1688 [==============================] - 11s 6ms/step - loss: 5.7133 - accuracy: 0.8022 - val_loss: 5.4861 - val_accuracy: 0.7989\n",
            "Epoch 10/10\n",
            "1688/1688 [==============================] - 11s 7ms/step - loss: 5.5959 - accuracy: 0.8025 - val_loss: 5.3624 - val_accuracy: 0.8005\n"
          ],
          "name": "stdout"
        }
      ]
    },
    {
      "cell_type": "code",
      "metadata": {
        "id": "RhfyNWUC7yrE",
        "colab_type": "code",
        "colab": {}
      },
      "source": [
        "x_pred=model.predict(x_test)\n",
        "x_pred=np.clip(x_pred,0.0,255.)"
      ],
      "execution_count": 119,
      "outputs": []
    },
    {
      "cell_type": "code",
      "metadata": {
        "id": "yN_O-Zp66stN",
        "colab_type": "code",
        "colab": {
          "base_uri": "https://localhost:8080/",
          "height": 167
        },
        "outputId": "9d6692f2-e09c-4b1c-f23d-111c5e21851a"
      },
      "source": [
        "n=2020\n",
        "plt.subplot(131)\n",
        "plt.imshow(np.resize(x_pred[n],(28,28)),cmap='gray')\n",
        "plt.subplot(132)\n",
        "plt.imshow(np.resize(x_test_noise[n],(28,28)),cmap='gray')\n",
        "plt.subplot(133)\n",
        "plt.imshow(np.resize(x_test[n],(28,28)),cmap='gray')"
      ],
      "execution_count": 124,
      "outputs": [
        {
          "output_type": "execute_result",
          "data": {
            "text/plain": [
              "<matplotlib.image.AxesImage at 0x7f5328301ba8>"
            ]
          },
          "metadata": {
            "tags": []
          },
          "execution_count": 124
        },
        {
          "output_type": "display_data",
          "data": {
            "image/png": "[encoded data removed]",
            "text/plain": [
              "<Figure size 432x288 with 3 Axes>"
            ]
          },
          "metadata": {
            "tags": [],
            "needs_background": "light"
          }
        }
      ]
    },
    {
      "cell_type": "code",
      "metadata": {
        "id": "dO5TYw2vDaPJ",
        "colab_type": "code",
        "colab": {
          "base_uri": "https://localhost:8080/",
          "height": 338
        },
        "outputId": "3475e502-ede5-4752-ad44-b94a48637803"
      },
      "source": [
        "plt.figure(figsize=(10,5))\n",
        "plt.subplot(211)\n",
        "plt.plot(range(10),history.history['loss'],'g',label='loss')\n",
        "plt.plot(range(10),history.history['val_loss'],'r',label='val_loss')\n",
        "plt.legend(loc='upper right')\n",
        "\n",
        "plt.subplot(212)\n",
        "plt.plot(range(10),history.history['accuracy'],'g',label='accuracy')\n",
        "plt.plot(range(10),history.history['val_accuracy'],'r',label='val_accuracy')\n",
        "plt.legend(loc='upper right')"
      ],
      "execution_count": 121,
      "outputs": [
        {
          "output_type": "execute_result",
          "data": {
            "text/plain": [
              "<matplotlib.legend.Legend at 0x7f532859f240>"
            ]
          },
          "metadata": {
            "tags": []
          },
          "execution_count": 121
        },
        {
          "output_type": "display_data",
          "data": {
            "image/png": "[encoded data removed]",
            "text/plain": [
              "<Figure size 720x360 with 2 Axes>"
            ]
          },
          "metadata": {
            "tags": [],
            "needs_background": "light"
          }
        }
      ]
    },
    {
      "cell_type": "code",
      "metadata": {
        "id": "R6gSnb6iJe8c",
        "colab_type": "code",
        "colab": {}
      },
      "source": [
        ""
      ],
      "execution_count": null,
      "outputs": []
    }
  ]
}
